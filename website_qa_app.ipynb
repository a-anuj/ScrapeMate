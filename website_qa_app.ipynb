{
 "cells": [
  {
   "cell_type": "code",
   "execution_count": 2,
   "id": "bc08eb1e",
   "metadata": {},
   "outputs": [
    {
     "data": {
      "text/plain": [
       "True"
      ]
     },
     "execution_count": 2,
     "metadata": {},
     "output_type": "execute_result"
    }
   ],
   "source": [
    "import os\n",
    "from dotenv import load_dotenv\n",
    "load_dotenv()"
   ]
  },
  {
   "cell_type": "code",
   "execution_count": 3,
   "id": "848a3e10",
   "metadata": {},
   "outputs": [],
   "source": [
    "from groq import Groq\n",
    "client = Groq(api_key=os.getenv(\"GROQ_API_KEY\"))"
   ]
  },
  {
   "cell_type": "code",
   "execution_count": 4,
   "id": "40c9a99c",
   "metadata": {},
   "outputs": [],
   "source": [
    "class GroqLLM:\n",
    "    def __init__(self, client, model):\n",
    "        self.client = client\n",
    "        self.model = model\n",
    "\n",
    "    def __call__(self, query):\n",
    "        response = self.client.chat.completions.create(\n",
    "            model=self.model,\n",
    "            messages=[{\"role\": \"user\", \"content\": str(query)}]\n",
    "        )\n",
    "        return response.choices[0].message.content\n",
    "\n",
    "# Initialize like this\n",
    "llm = GroqLLM(client, \"llama-3.3-70b-versatile\")"
   ]
  },
  {
   "cell_type": "code",
   "execution_count": 14,
   "id": "322dd171",
   "metadata": {},
   "outputs": [
    {
     "name": "stdout",
     "output_type": "stream",
     "text": [
      "[Document(metadata={'source': 'https://www.pna.gov.ph/articles/list', 'title': 'News Articles | Philippine News Agency', 'description': 'List of news articles published by Philippine News Agency', 'language': 'en'}, page_content='\\n\\n\\n\\n\\nNews Articles | Philippine News Agency\\n\\n\\n\\n\\n\\n\\n\\n\\n\\n\\n\\n\\n\\n\\n\\n\\n\\n\\n\\n\\n\\n\\n\\n\\n\\n\\n\\nGOV PH\\n\\n\\n\\nOpen GOV.PH Menu\\n\\n\\n\\n\\n\\n\\n\\n\\n\\n\\n\\nHome\\n\\n\\nAbout\\n\\n\\nSubscription\\n\\n\\nTransparency\\n\\n\\nContact\\n\\n\\n\\n\\nSearch\\n\\n\\n\\n\\n\\nPerform Search\\n\\n\\n\\n\\n\\n\\n\\nHome\\n\\n\\nAbout\\n\\n\\nSubscription\\n\\n\\nTransparency\\n\\n\\nContact\\n\\n\\n\\n\\nSearch\\n\\n\\n\\n\\n\\nPerform Search\\n\\n\\n\\n\\n\\n\\n\\n\\n\\n\\n\\n\\n\\n\\n\\n\\nOpen GOV.PH Menu\\n\\n\\n\\n\\n\\n\\n\\n\\n\\n\\nHome\\n\\n\\nNational\\n\\n\\nProvincial\\n\\n\\nOpinion\\n\\n\\nBusiness\\n\\n\\nFeatures\\n\\n\\nHealth\\n\\n\\nForeign\\n\\n\\nSports\\n\\n\\nTravel\\n\\n\\nEnvironment\\n\\n\\nSciTech\\n\\n\\n\\n\\n\\n\\n\\nHome\\n\\n\\nNational\\n\\n\\nProvincial\\n\\n\\nOpinion\\n\\n\\nBusiness\\n\\n\\nFeatures\\n\\n\\nHealth\\n\\n\\nForeign\\n\\n\\nSports\\n\\n\\nTravel\\n\\n\\nEnvironment\\n\\n\\nSciTech\\n\\n\\n\\n\\n \\n\\n\\n\\n\\nNews Articles\\n\\n\\n\\n\\n\\n\\n\\nPope Leo urges end to war before it becomes ‘irreparable abyss’\\n\\n\\n\\n\\n\\r\\n            June 22, 2025, 10:09 pm\\r\\n                     \\n\\nISTANBUL – Pope Leo XIV on Sunday made an urgent appeal for peace in the Middle East, warning of the risk of uncontrollable escalation following recent US strikes on Iranian nuclear sites and Tehran’s retaliatory missile attacks on Israeli cities. Speaking from the window of the Apostolic… Read More\\n\\n \\n\\n\\n\\n\\nPH urges diplomacy as Middle East tension heats up after US strikes\\n\\n\\n\\n\\n\\r\\n            June 22, 2025, 10:05 pm\\r\\n                     \\n\\nMANILA – The Philippines expressed deep concern over the latest security developments in the Middle East, calling for restraint and diplomacy amid fears of escalating conflict involving Iran, Israel, and the United States (US). In a statement Sunday, the Department of Foreign Affairs (DFA) said… Read More\\n\\n \\n\\n\\n\\n\\nUN chief \\'gravely alarmed\\' by US strike against Iran\\n\\n\\n\\n\\n\\r\\n            June 22, 2025, 10:04 pm\\r\\n                     \\n\\nWASHINGTON – UN Secretary-General Antonio Guterres voiced concern Saturday after the US carried out strikes against Iran, warning about a \"dangerous escalation\" in the region. \"I am gravely alarmed by the use of force by the United States against Iran today. This is a dangerous escalation in a… Read More\\n\\n \\n\\n\\n\\n\\nBack from Japan: Marcos touts job-generating deals, PH Pavilion launch\\n\\n\\n\\n\\n\\r\\n            June 22, 2025, 6:57 pm\\r\\n                     \\n\\nMANILA\\xa0– President Ferdinand R. Marcos Jr. returned to the Philippines on Sunday night following a four-day working visit to Osaka, Japan, where he secured new investment commitments and launched the Philippine Pavilion for World Expo 2025. The plane carrying Marcos and his delegation landed in… Read More\\n\\n \\n\\n\\n\\n\\nPampanga’s biggest motorsports track breaks ground in Lubao\\n\\n\\n\\n\\n\\r\\n            June 22, 2025, 6:17 pm\\r\\n                     \\n\\nLUBAO, Pampanga –\\xa0The biggest and most advanced motorsports complex in the country, which aims to boost economy and tourism, will soon rise at the Pradera Verde Racing Circuit (PRVC) in Barangay Sto Niño here. The PRVC, which broke ground Sunday at a 42-hectare land here, is designed by Tilke… Read More\\n\\n \\n\\n\\n\\n\\n26 Filipinos exit Israel via Jordan, set for PH return trip\\n\\n\\n\\n\\n\\r\\n            June 22, 2025, 5:45 pm\\r\\n                     \\n\\nMANILA – A total of 26 overseas Filipinos in Israel have been repatriated through the Philippine Embassy’s Voluntary Repatriation Program, amid heightened tensions between Israel and Iran. In a social media post Sunday, the Philippine Embassy in Israel said the repatriates were assisted by its… Read More\\n\\n \\n\\n\\n\\n\\nAlas Pilipinas all set for SEA V.League in Candon City\\n\\n\\n\\n\\n\\r\\n            June 22, 2025, 5:39 pm\\r\\n                     \\n\\nMANILA – The Philippines seeks a higher spot on the podium in the Southeast Asian Men’s V.League slated July 9 to 13 at the Candon City Arena in Ilocos Sur. Bronze medalist last year, Alas Pilipinas is also aiming to secure world ranking points as well as a big share of the USD55,000 (PHP3.15… Read More\\n\\n \\n\\n\\n\\n\\nBJMP Brooke’s Point launches read-a-book, feeding drive\\n\\n\\n\\n\\n\\r\\n            June 22, 2025, 5:32 pm\\r\\n                     \\n\\nBROOKE’S POINT, Palawan – In observance of the 14th\\u202fCommunity Relations Service (CRS) Month, the Bureau of Jail Management and Penology (BJMP) Brooke’s Point District Jail carried out the outreach activity “Tulong sa Komunidad, Bayang Maunlad” at Amas Central Elementary School here.… Read More\\n\\n \\n\\n\\n\\n\\nIAEA confirms no rise in off-site radiation levels after strikes\\n\\n\\n\\n\\n\\r\\n            June 22, 2025, 5:01 pm\\r\\n                     \\n\\nANKARA – The International Atomic Energy Agency (IAEA) on Sunday confirmed no increase in the off-site radiation levels reported as of this time after attacks on three nuclear sites in Iran, including Fordo. “IAEA will provide further assessments on situation in Iran as more information… Read More\\n\\n \\n\\n\\n\\n\\nFierce battle seen at JPGT Del Monte girls’ premier category\\n\\n\\n\\n\\n\\r\\n            June 22, 2025, 4:15 pm\\r\\n                     \\n\\nMANILA – Homegrown talents Zero Plete and Crista Miñoza prepare for a strong challenge against Precious Zaragosa of Davao in the premier girls\\' 15-18 category of the ICTSI Del Monte Junior PGT Championship starting Wednesday at Del Monte Golf Club in Bukidnon. Plete and Miñoza will take… Read More\\n\\n \\n\\n\\n\\n\\nGilas revs up for FIBA Asia Cup; Brownlee expected in full strength\\n\\n\\n\\n\\n\\r\\n            June 22, 2025, 3:41 pm\\r\\n                     \\n\\nMANILA –\\xa0Gilas Pilipinas will commence buildup for the FIBA Asia Cup 2025 later this month, with naturalized ace Justin Brownlee expected to return in full health following a thumb injury that sidelined him earlier this year. Coach Tim Cone confirmed the national team will kick off weekly… Read More\\n\\n \\n\\n\\n\\n\\nSDF aircraft depart for Djibouti to evacuate Japanese nationals\\n\\n\\n\\n\\n\\r\\n            June 22, 2025, 3:38 pm\\r\\n                     \\n\\nTottori – Two Japanese Air Self-Defense Force transport aircraft left Japan for Djibouti on Saturday to prepare to evacuate Japanese nationals from Israel and Iran. The C-2 aircraft took off from the ASDF\\'s Miho base in the western Japan prefecture of Tottori around 2:45 to 3 p.m., heading for… Read More\\n\\n \\n\\n\\n\\n\\nAgusan del Norte \\'electrified\\' by DepEd, NEA Last Mile program\\n\\n\\n\\n\\n\\r\\n            June 22, 2025, 3:13 pm\\r\\n                     \\n\\nBUENAVISTA, Agusan del Norte –\\xa0Hope now runs on electricity and satellite internet in Sitio Tagpangi, Barangay Simbalan here, after years of reading in dim classrooms and teaching with limited tools, as the Datu Saldong Domino Elementary School became the first school energized through solar… Read More\\n\\n \\n\\n\\n\\n\\n PNP: No fitness instructor hired for entire force\\n\\n\\n\\n\\n\\r\\n            June 22, 2025, 2:22 pm\\r\\n                     \\n\\nMANILA – The Philippine National Police (PNP) on Sunday released a clarification that its chief, Gen. Nicolas Torre III, has not authorized any fitness instructor to lead a weight loss program for the entire organization. The supposed weight reduction program, led by fitness vlogger Rendon… Read More\\n\\n \\n\\n\\n\\n\\nCCC, GGGI push for renewable energy dev’t in PH\\n\\n\\n\\n\\n\\r\\n            June 22, 2025, 9:38 am\\r\\n                           Updated on June 22, 2025, 9:45 am\\n\\n\\nMANILA – The Climate Change Commission (CCC) and the Global Green Growth Institute (GGGI) have stepped up efforts to accelerate the development of renewable energy in the Philippines through two innovative initiatives on floating solar and carbon-neutral railways. The projects include Advancing… Read More\\n\\n \\n\\n\\n\\n\\nOver 122M displaced people face growing risks, UN warns\\n\\n\\n\\n\\n\\r\\n            June 22, 2025, 8:41 am\\r\\n                     \\n\\nANKARA – Over 122 million people worldwide are now forcibly displaced, facing heightened risks to their safety and access to aid as conflicts persist across multiple regions, a UN official said Friday in a statement marking World Refugee Day. Selin Unal, spokesperson for the UN High Commissioner… Read More\\n\\n \\n\\n\\n\\n\\nJapan, US, PH coast guards hold joint drill\\n\\n\\n\\n\\n\\r\\n            June 22, 2025, 8:11 am\\r\\n                     \\n\\nKAGOSHIMA – The Japanese, United States and Philippine coast guards on Friday held a joint exercise in Japan for the first time. The drill, which took place in Kagoshima Bay in southwestern Japan, simulated a scenario in which a US cargo ship and a Philippine fishing boat collided in… Read More\\n\\n \\n\\n\\n\\n\\nA-Bomb Dome recommended as special historic site in Japan\\n\\n\\n\\n\\n\\r\\n            June 22, 2025, 8:07 am\\r\\n                     \\n\\nTOKYO – A Japanese government panel on Friday proposed the designation of the Atomic Bomb Dome in the western city of Hiroshima as a special historic site. It will likely become the country\\'s first such site built in the modern era. A UNESCO World Heritage site, the Atomic Bomb Dome is a symbol… Read More\\n\\n \\n\\n\\n\\n\\nITCZ, ‘habagat’ to bring scattered rains over parts of PH\\n\\n\\n\\n\\n\\r\\n            June 22, 2025, 6:52 am\\r\\n                     \\n\\nMANILA – The southwest monsoon or “habagat” and the intertropical convergence zone (ITCZ) will bring cloudy skies with scattered rains over parts of the country, the weather bureau said on Sunday. In its 5 a.m. bulletin, the Philippine Atmospheric, Geophysical and Astronomical Services… Read More\\n\\n \\n\\n\\n\\n\\nDILG offers ‘buy 1, give 1’ scheme for police vehicles in NCR\\n\\n\\n\\n\\n\\r\\n            June 21, 2025, 10:09 pm\\r\\n                           Updated on June 22, 2025, 2:26 pm\\n\\n\\nMANILA – Department of the Interior and Local Government (DILG) Secretary Jonvic Remulla proposed “buy one, give one” scheme to Metro Manila mayors, offering to match every police vehicle they procure with an additional unit from the national government. “What I am proposing is we go… Read More\\n\\n \\n\\n\\n\\n\\n\\n\\nPrevious\\n\\n\\n\\n\\n\\n\\n\\n1\\n\\n\\n\\n\\n2\\n\\n\\n\\n\\n3\\n\\n\\n\\n\\n4\\n\\n\\n\\n\\n5\\n\\n\\n\\n\\n6\\n\\n\\n\\n\\n7\\n\\n\\n\\n\\n8\\n\\n\\n\\n\\n9\\n\\n\\n\\n\\n10\\n\\n\\n\\n\\n1\\n2\\n3\\n4\\n5\\n6\\n7\\n8\\n9\\n10\\n\\n\\n\\n\\nNext\\n\\n\\n\\n\\n\\n\\n \\n\\n\\n\\n\\n\\n\\n\\n\\n\\n\\n\\n\\n\\r\\n                  The Philippine News Agency is a web-based newswire service of the Philippine government under the\\r\\n                  supervision of the News and Information Bureau (NIB) of the Presidential Communications Office (PCO).\\r\\n               \\n\\n\\n\\nGovernment Links\\n\\nOffice of the President\\nOffice of the Vice President\\nSenate of the Philippines\\nHouse of Representatives\\nSupreme Court\\nPresidential Communications Office\\n\\n\\n\\n\\n\\n\\n\\n\\n\\n\\r\\n               Copyright 2025 Philippine News Agency. Privacy Policy | Terms of Use\\n\\n\\n\\n\\n\\n\\n\\nScroll to top\\n\\n\\n\\n\\n\\n\\n\\n\\n\\n\\n\\n\\n')]\n"
     ]
    }
   ],
   "source": [
    "from langchain_community.document_loaders import WebBaseLoader\n",
    "loader = WebBaseLoader(web_paths=(\"https://www.pna.gov.ph/articles/list\",))\n",
    "document = loader.load()\n",
    "print(document)"
   ]
  },
  {
   "cell_type": "code",
   "execution_count": 15,
   "id": "d7246d5c",
   "metadata": {},
   "outputs": [],
   "source": [
    "from langchain.text_splitter import RecursiveCharacterTextSplitter\n",
    "text_splitter = RecursiveCharacterTextSplitter(chunk_size=1000,chunk_overlap=100)\n",
    "document = text_splitter.split_documents(document)"
   ]
  },
  {
   "cell_type": "code",
   "execution_count": 16,
   "id": "0eadeb6b",
   "metadata": {},
   "outputs": [
    {
     "name": "stderr",
     "output_type": "stream",
     "text": [
      "/home/anuj/anaconda3/lib/python3.12/site-packages/huggingface_hub/file_download.py:797: FutureWarning: `resume_download` is deprecated and will be removed in version 1.0.0. Downloads always resume when possible. If you want to force a new download, use `force_download=True`.\n",
      "  warnings.warn(\n"
     ]
    }
   ],
   "source": [
    "from langchain.embeddings import HuggingFaceBgeEmbeddings\n",
    "embedding = HuggingFaceBgeEmbeddings(model_name=\"BAAI/bge-small-en-v1.5\")\n"
   ]
  },
  {
   "cell_type": "code",
   "execution_count": 17,
   "id": "4edc67f6",
   "metadata": {},
   "outputs": [],
   "source": [
    "from langchain.vectorstores import Chroma\n",
    "db = Chroma.from_documents(document,embedding)"
   ]
  },
  {
   "cell_type": "code",
   "execution_count": 18,
   "id": "933fdeb7",
   "metadata": {},
   "outputs": [],
   "source": [
    "from langchain_core.prompts import ChatPromptTemplate\n",
    "prompt = ChatPromptTemplate.from_template(\"\"\"\n",
    "Answer the following question based on the provided context\n",
    "<context>\n",
    "{context}\n",
    "</context>\n",
    "Question : {input}\"\"\")"
   ]
  },
  {
   "cell_type": "code",
   "execution_count": 19,
   "id": "4240574a",
   "metadata": {},
   "outputs": [],
   "source": [
    "from langchain.chains.combine_documents import create_stuff_documents_chain\n",
    "document_chain = create_stuff_documents_chain(llm,prompt)"
   ]
  },
  {
   "cell_type": "code",
   "execution_count": 20,
   "id": "bb97147e",
   "metadata": {},
   "outputs": [],
   "source": [
    "retriever = db.as_retriever()"
   ]
  },
  {
   "cell_type": "code",
   "execution_count": 21,
   "id": "6f76abd1",
   "metadata": {},
   "outputs": [],
   "source": [
    "from langchain.chains import create_retrieval_chain\n",
    "retrieval_chain = create_retrieval_chain(retriever,document_chain)"
   ]
  },
  {
   "cell_type": "code",
   "execution_count": 28,
   "id": "cf003205",
   "metadata": {},
   "outputs": [
    {
     "name": "stdout",
     "output_type": "stream",
     "text": [
      "Based on the provided context, the headlines of news articles related to Manila are:\n",
      "\n",
      "1. \"MANILA – The southwest monsoon or “habagat” and the intertropical convergence zone (ITCZ) will bring cloudy skies with scattered rains over parts of the country, the weather bureau said on Sunday.\"\n",
      "2. \"DILG offers ‘buy 1, give 1’ scheme for police vehicles in NCR\"\n",
      "3. \"MANILA – Department of the Interior and Local Government (DILG) Secretary Jonvic Remulla proposed “buy one, give one” scheme to Metro Manila mayors, offering to match every police vehicle they procure with an additional unit from the national government.\"\n",
      "4. \"MANILA – A total of 26 overseas Filipinos in Israel have been repatriated through the Philippine Embassy’s Voluntary Repatriation Program, amid heightened tensions between Israel and Iran.\"\n",
      "5. \"MANILA – The Philippines seeks a higher spot on the podium in the Southeast Asian Men’s V.League slated July 9 to 13 at the Candon City Arena in Ilocos Sur.\"\n",
      "\n",
      "However, the last one is not strictly related to Manila, as the event is held in Ilocos Sur. \n",
      "\n",
      "The revised list of headlines of news articles related to Manila is:\n",
      "\n",
      "1. \"MANILA – The southwest monsoon or “habagat” and the intertropical convergence zone (ITCZ) will bring cloudy skies with scattered rains over parts of the country, the weather bureau said on Sunday.\"\n",
      "2. \"DILG offers ‘buy 1, give 1’ scheme for police vehicles in NCR\"\n",
      "3. \"MANILA – Department of the Interior and Local Government (DILG) Secretary Jonvic Remulla proposed “buy one, give one” scheme to Metro Manila mayors, offering to match every police vehicle they procure with an additional unit from the national government.\"\n",
      "4. \"MANILA – A total of 26 overseas Filipinos in Israel have been repatriated through the Philippine Embassy’s Voluntary Repatriation Program, amid heightened tensions between Israel and Iran.\"\n"
     ]
    }
   ],
   "source": [
    "response = retrieval_chain.invoke({\"input\" : \"give headlines of all news articles related to manila \"})\n",
    "print(response['answer'])"
   ]
  },
  {
   "cell_type": "code",
   "execution_count": null,
   "id": "90a70258",
   "metadata": {},
   "outputs": [],
   "source": []
  },
  {
   "cell_type": "code",
   "execution_count": null,
   "id": "c761586a",
   "metadata": {},
   "outputs": [],
   "source": []
  },
  {
   "cell_type": "code",
   "execution_count": null,
   "id": "3be9c958",
   "metadata": {},
   "outputs": [],
   "source": []
  },
  {
   "cell_type": "code",
   "execution_count": null,
   "id": "23d74fd2",
   "metadata": {},
   "outputs": [],
   "source": []
  },
  {
   "cell_type": "code",
   "execution_count": null,
   "id": "994f0423",
   "metadata": {},
   "outputs": [],
   "source": []
  },
  {
   "cell_type": "code",
   "execution_count": null,
   "id": "39daed4d",
   "metadata": {},
   "outputs": [],
   "source": []
  },
  {
   "cell_type": "code",
   "execution_count": null,
   "id": "58d85da5",
   "metadata": {},
   "outputs": [],
   "source": []
  },
  {
   "cell_type": "code",
   "execution_count": null,
   "id": "15df799f",
   "metadata": {},
   "outputs": [],
   "source": []
  },
  {
   "cell_type": "code",
   "execution_count": null,
   "id": "f3d6d98c",
   "metadata": {},
   "outputs": [],
   "source": []
  }
 ],
 "metadata": {
  "kernelspec": {
   "display_name": "base",
   "language": "python",
   "name": "python3"
  },
  "language_info": {
   "codemirror_mode": {
    "name": "ipython",
    "version": 3
   },
   "file_extension": ".py",
   "mimetype": "text/x-python",
   "name": "python",
   "nbconvert_exporter": "python",
   "pygments_lexer": "ipython3",
   "version": "3.12.7"
  }
 },
 "nbformat": 4,
 "nbformat_minor": 5
}
